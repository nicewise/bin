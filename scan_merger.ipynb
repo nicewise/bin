{
 "cells": [
  {
   "cell_type": "code",
   "execution_count": 2,
   "id": "34519cc3",
   "metadata": {},
   "outputs": [],
   "source": [
    "from PyPDF2 import PdfFileReader, PdfFileWriter"
   ]
  },
  {
   "cell_type": "code",
   "execution_count": 5,
   "id": "c3b6cdac",
   "metadata": {},
   "outputs": [],
   "source": [
    "pdf_reader1 = PdfFileReader('扫描0001.pdf')\n",
    "pdf_reader2 = PdfFileReader('扫描0003.pdf')\n",
    "pdf_writer = PdfFileWriter()"
   ]
  },
  {
   "cell_type": "code",
   "execution_count": 6,
   "id": "0dc99599",
   "metadata": {},
   "outputs": [],
   "source": [
    "for page in range(pdf_reader1.getNumPages()):\n",
    "    pdf_writer.addPage(pdf_reader1.getPage(page))\n",
    "    pdf_writer.addPage(pdf_reader2.getPage(page))"
   ]
  },
  {
   "cell_type": "code",
   "execution_count": 7,
   "id": "0d2ffb4a",
   "metadata": {},
   "outputs": [],
   "source": [
    "with open('reordered.pdf', 'wb') as f:\n",
    "    pdf_writer.write(f)"
   ]
  }
 ],
 "metadata": {
  "kernelspec": {
   "display_name": "Python 3 (ipykernel)",
   "language": "python",
   "name": "python3"
  },
  "language_info": {
   "codemirror_mode": {
    "name": "ipython",
    "version": 3
   },
   "file_extension": ".py",
   "mimetype": "text/x-python",
   "name": "python",
   "nbconvert_exporter": "python",
   "pygments_lexer": "ipython3",
   "version": "3.10.4"
  }
 },
 "nbformat": 4,
 "nbformat_minor": 5
}
